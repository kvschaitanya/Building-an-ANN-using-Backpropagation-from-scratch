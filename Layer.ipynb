{
 "cells": [
  {
   "cell_type": "code",
   "execution_count": 1,
   "metadata": {},
   "outputs": [],
   "source": [
    "import numpy as np"
   ]
  },
  {
   "cell_type": "markdown",
   "metadata": {},
   "source": [
    "### Fully connected Layer"
   ]
  },
  {
   "cell_type": "code",
   "execution_count": 2,
   "metadata": {},
   "outputs": [],
   "source": [
    "class DenseLayer:\n",
    "    def __init__(self, input_size, output_size):\n",
    "        self.weights = np.random.random((input_size, output_size)) - 0.5\n",
    "        self.bias = np.random.random((1, output_size)) - 0.5\n",
    "\n",
    "    def forward_propagation(self, input):\n",
    "        self.input = input\n",
    "        self.output = input @ self.weights + self.bias\n",
    "        return self.output\n",
    "\n",
    "    def backward_propagation(self, output_error, learning_rate):\n",
    "        dy_dw = self.input.T @ output_error\n",
    "        dy_dx = output_error @ self.weights.T\n",
    "        # dy_dx = (output_error * self.weights).sum(axis = -1).reshape(1, -1)\n",
    "        self.weights -= learning_rate * dy_dw\n",
    "        self.bias -= learning_rate * output_error\n",
    "        return dy_dx"
   ]
  },
  {
   "cell_type": "code",
   "execution_count": 3,
   "metadata": {},
   "outputs": [
    {
     "name": "stdout",
     "output_type": "stream",
     "text": [
      "[[ 2.34761362  1.22842112 -0.86145663  0.06065187 -1.16463309]]\n",
      "[[-0.01142081  1.05709556 -0.30554863]]\n"
     ]
    }
   ],
   "source": [
    "input = np.array([[1, 2, 3]])\n",
    "l1 = DenseLayer(input.shape[-1], 5)\n",
    "\n",
    "print(l1.forward_propagation(input))\n",
    "print(l1.backward_propagation(np.array([[1, 1, 1, 1, 1]]), 1))"
   ]
  }
 ],
 "metadata": {
  "kernelspec": {
   "display_name": "Python 3",
   "language": "python",
   "name": "python3"
  },
  "language_info": {
   "codemirror_mode": {
    "name": "ipython",
    "version": 3
   },
   "file_extension": ".py",
   "mimetype": "text/x-python",
   "name": "python",
   "nbconvert_exporter": "python",
   "pygments_lexer": "ipython3",
   "version": "3.12.6"
  }
 },
 "nbformat": 4,
 "nbformat_minor": 2
}
